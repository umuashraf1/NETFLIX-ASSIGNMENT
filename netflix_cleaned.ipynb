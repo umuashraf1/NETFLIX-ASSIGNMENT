{
 "cells": [
  {
   "cell_type": "markdown",
   "id": "5561ceec",
   "metadata": {},
   "source": [
    "library makes life easier  \n",
    "pandas is for data structure\n",
    "\n",
    "numpy playing with numbers and statistics"
   ]
  },
  {
   "cell_type": "code",
   "execution_count": 6,
   "id": "b80075c2",
   "metadata": {},
   "outputs": [],
   "source": [
    "import pandas as pd"
   ]
  },
  {
   "cell_type": "markdown",
   "id": "64636cc3",
   "metadata": {},
   "source": [
    "Download:\n",
    " Kaggle Link:\n",
    " https://www.kaggle.com/datasets/shivamb/net\n",
    " flix-shows\n",
    " \n",
    " ➢ Fill missing values in the country column \n",
    "with \"Unknown“\n",
    "\n",
    " ➢ Drop rows where title or type is missing\n",
    " ➢ Count how many are Movies vs TV Shows\n",
    "\n",
    " ➢ List the top 10 most frequent countries in \n",
    "the country column\n",
    "\n",
    " ➢ Convert the date_added column to \n",
    "datetime format\n",
    "\n",
    " ➢ Create a new column year_added \n",
    "extracted from date_added\n",
    "\n",
    " ➢ Find all shows released before the year \n",
    "2000\n",
    "\n",
    " ➢ Find the most common genre in the \n",
    "listed_in column\n",
    "\n",
    " ➢ List all shows directed by 'Rajkumar \n",
    "Hirani’\n",
    "\n",
    " ➢ Count how many shows fall under each \n",
    "rating (e.g., PG, TV-MA, etc.)\n",
    "\n",
    " ➢ Filter and show only movies with \n",
    "duration more than 100 minutes\n",
    "\n",
    " ➢ Create a new column content_length by \n",
    "extracting numeric duration (as integer)\n",
    "\n",
    " ➢ Sort the dataset by release_year in \n",
    "descending order\n",
    "\n",
    " ➢ Save the cleaned DataFrame to a new \n",
    "file named netflix_cleaned.cs"
   ]
  },
  {
   "cell_type": "code",
   "execution_count": 7,
   "id": "e5348cfd",
   "metadata": {},
   "outputs": [],
   "source": [
    "neflix = pd.read_csv(r'C:\\Users\\user\\Desktop\\data engineering\\netflix_titles.csv')"
   ]
  },
  {
   "cell_type": "code",
   "execution_count": 8,
   "id": "dcfd9477",
   "metadata": {},
   "outputs": [
    {
     "data": {
      "text/html": [
       "<div>\n",
       "<style scoped>\n",
       "    .dataframe tbody tr th:only-of-type {\n",
       "        vertical-align: middle;\n",
       "    }\n",
       "\n",
       "    .dataframe tbody tr th {\n",
       "        vertical-align: top;\n",
       "    }\n",
       "\n",
       "    .dataframe thead th {\n",
       "        text-align: right;\n",
       "    }\n",
       "</style>\n",
       "<table border=\"1\" class=\"dataframe\">\n",
       "  <thead>\n",
       "    <tr style=\"text-align: right;\">\n",
       "      <th></th>\n",
       "      <th>show_id</th>\n",
       "      <th>type</th>\n",
       "      <th>title</th>\n",
       "      <th>director</th>\n",
       "      <th>cast</th>\n",
       "      <th>country</th>\n",
       "      <th>date_added</th>\n",
       "      <th>release_year</th>\n",
       "      <th>rating</th>\n",
       "      <th>duration</th>\n",
       "      <th>listed_in</th>\n",
       "      <th>description</th>\n",
       "    </tr>\n",
       "  </thead>\n",
       "  <tbody>\n",
       "    <tr>\n",
       "      <th>0</th>\n",
       "      <td>s1</td>\n",
       "      <td>Movie</td>\n",
       "      <td>Dick Johnson Is Dead</td>\n",
       "      <td>Kirsten Johnson</td>\n",
       "      <td>NaN</td>\n",
       "      <td>United States</td>\n",
       "      <td>September 25, 2021</td>\n",
       "      <td>2020</td>\n",
       "      <td>PG-13</td>\n",
       "      <td>90 min</td>\n",
       "      <td>Documentaries</td>\n",
       "      <td>As her father nears the end of his life, filmm...</td>\n",
       "    </tr>\n",
       "    <tr>\n",
       "      <th>1</th>\n",
       "      <td>s2</td>\n",
       "      <td>TV Show</td>\n",
       "      <td>Blood &amp; Water</td>\n",
       "      <td>NaN</td>\n",
       "      <td>Ama Qamata, Khosi Ngema, Gail Mabalane, Thaban...</td>\n",
       "      <td>South Africa</td>\n",
       "      <td>September 24, 2021</td>\n",
       "      <td>2021</td>\n",
       "      <td>TV-MA</td>\n",
       "      <td>2 Seasons</td>\n",
       "      <td>International TV Shows, TV Dramas, TV Mysteries</td>\n",
       "      <td>After crossing paths at a party, a Cape Town t...</td>\n",
       "    </tr>\n",
       "    <tr>\n",
       "      <th>2</th>\n",
       "      <td>s3</td>\n",
       "      <td>TV Show</td>\n",
       "      <td>Ganglands</td>\n",
       "      <td>Julien Leclercq</td>\n",
       "      <td>Sami Bouajila, Tracy Gotoas, Samuel Jouy, Nabi...</td>\n",
       "      <td>NaN</td>\n",
       "      <td>September 24, 2021</td>\n",
       "      <td>2021</td>\n",
       "      <td>TV-MA</td>\n",
       "      <td>1 Season</td>\n",
       "      <td>Crime TV Shows, International TV Shows, TV Act...</td>\n",
       "      <td>To protect his family from a powerful drug lor...</td>\n",
       "    </tr>\n",
       "    <tr>\n",
       "      <th>3</th>\n",
       "      <td>s4</td>\n",
       "      <td>TV Show</td>\n",
       "      <td>Jailbirds New Orleans</td>\n",
       "      <td>NaN</td>\n",
       "      <td>NaN</td>\n",
       "      <td>NaN</td>\n",
       "      <td>September 24, 2021</td>\n",
       "      <td>2021</td>\n",
       "      <td>TV-MA</td>\n",
       "      <td>1 Season</td>\n",
       "      <td>Docuseries, Reality TV</td>\n",
       "      <td>Feuds, flirtations and toilet talk go down amo...</td>\n",
       "    </tr>\n",
       "    <tr>\n",
       "      <th>4</th>\n",
       "      <td>s5</td>\n",
       "      <td>TV Show</td>\n",
       "      <td>Kota Factory</td>\n",
       "      <td>NaN</td>\n",
       "      <td>Mayur More, Jitendra Kumar, Ranjan Raj, Alam K...</td>\n",
       "      <td>India</td>\n",
       "      <td>September 24, 2021</td>\n",
       "      <td>2021</td>\n",
       "      <td>TV-MA</td>\n",
       "      <td>2 Seasons</td>\n",
       "      <td>International TV Shows, Romantic TV Shows, TV ...</td>\n",
       "      <td>In a city of coaching centers known to train I...</td>\n",
       "    </tr>\n",
       "  </tbody>\n",
       "</table>\n",
       "</div>"
      ],
      "text/plain": [
       "  show_id     type                  title         director  \\\n",
       "0      s1    Movie   Dick Johnson Is Dead  Kirsten Johnson   \n",
       "1      s2  TV Show          Blood & Water              NaN   \n",
       "2      s3  TV Show              Ganglands  Julien Leclercq   \n",
       "3      s4  TV Show  Jailbirds New Orleans              NaN   \n",
       "4      s5  TV Show           Kota Factory              NaN   \n",
       "\n",
       "                                                cast        country  \\\n",
       "0                                                NaN  United States   \n",
       "1  Ama Qamata, Khosi Ngema, Gail Mabalane, Thaban...   South Africa   \n",
       "2  Sami Bouajila, Tracy Gotoas, Samuel Jouy, Nabi...            NaN   \n",
       "3                                                NaN            NaN   \n",
       "4  Mayur More, Jitendra Kumar, Ranjan Raj, Alam K...          India   \n",
       "\n",
       "           date_added  release_year rating   duration  \\\n",
       "0  September 25, 2021          2020  PG-13     90 min   \n",
       "1  September 24, 2021          2021  TV-MA  2 Seasons   \n",
       "2  September 24, 2021          2021  TV-MA   1 Season   \n",
       "3  September 24, 2021          2021  TV-MA   1 Season   \n",
       "4  September 24, 2021          2021  TV-MA  2 Seasons   \n",
       "\n",
       "                                           listed_in  \\\n",
       "0                                      Documentaries   \n",
       "1    International TV Shows, TV Dramas, TV Mysteries   \n",
       "2  Crime TV Shows, International TV Shows, TV Act...   \n",
       "3                             Docuseries, Reality TV   \n",
       "4  International TV Shows, Romantic TV Shows, TV ...   \n",
       "\n",
       "                                         description  \n",
       "0  As her father nears the end of his life, filmm...  \n",
       "1  After crossing paths at a party, a Cape Town t...  \n",
       "2  To protect his family from a powerful drug lor...  \n",
       "3  Feuds, flirtations and toilet talk go down amo...  \n",
       "4  In a city of coaching centers known to train I...  "
      ]
     },
     "execution_count": 8,
     "metadata": {},
     "output_type": "execute_result"
    }
   ],
   "source": [
    "neflix.head()"
   ]
  },
  {
   "cell_type": "code",
   "execution_count": 11,
   "id": "ae682432",
   "metadata": {},
   "outputs": [
    {
     "data": {
      "text/plain": [
       "(8807, 12)"
      ]
     },
     "execution_count": 11,
     "metadata": {},
     "output_type": "execute_result"
    }
   ],
   "source": [
    "neflix.shape"
   ]
  },
  {
   "cell_type": "code",
   "execution_count": 12,
   "id": "2a1331ea",
   "metadata": {},
   "outputs": [
    {
     "data": {
      "text/plain": [
       "show_id            0\n",
       "type               0\n",
       "title              0\n",
       "director        2634\n",
       "cast             825\n",
       "country          831\n",
       "date_added        10\n",
       "release_year       0\n",
       "rating             4\n",
       "duration           3\n",
       "listed_in          0\n",
       "description        0\n",
       "dtype: int64"
      ]
     },
     "execution_count": 12,
     "metadata": {},
     "output_type": "execute_result"
    }
   ],
   "source": [
    "neflix.isnull().sum()"
   ]
  },
  {
   "cell_type": "code",
   "execution_count": 14,
   "id": "f28f5678",
   "metadata": {},
   "outputs": [
    {
     "data": {
      "text/plain": [
       "United States                             2818\n",
       "India                                      972\n",
       "United Kingdom                             419\n",
       "Japan                                      245\n",
       "South Korea                                199\n",
       "                                          ... \n",
       "Romania, Bulgaria, Hungary                   1\n",
       "Uruguay, Guatemala                           1\n",
       "France, Senegal, Belgium                     1\n",
       "Mexico, United States, Spain, Colombia       1\n",
       "United Arab Emirates, Jordan                 1\n",
       "Name: country, Length: 748, dtype: int64"
      ]
     },
     "execution_count": 14,
     "metadata": {},
     "output_type": "execute_result"
    }
   ],
   "source": [
    "neflix['country'].value_counts()"
   ]
  },
  {
   "cell_type": "markdown",
   "id": "c94b2c4f",
   "metadata": {},
   "source": [
    "➢ Fill missing values in the country column with \"Unknown“"
   ]
  },
  {
   "cell_type": "code",
   "execution_count": 15,
   "id": "98d3998b",
   "metadata": {},
   "outputs": [],
   "source": [
    "neflix['country'] = neflix['country'].fillna('Unknown')"
   ]
  },
  {
   "cell_type": "code",
   "execution_count": 16,
   "id": "5dfbb78d",
   "metadata": {},
   "outputs": [
    {
     "data": {
      "text/html": [
       "<div>\n",
       "<style scoped>\n",
       "    .dataframe tbody tr th:only-of-type {\n",
       "        vertical-align: middle;\n",
       "    }\n",
       "\n",
       "    .dataframe tbody tr th {\n",
       "        vertical-align: top;\n",
       "    }\n",
       "\n",
       "    .dataframe thead th {\n",
       "        text-align: right;\n",
       "    }\n",
       "</style>\n",
       "<table border=\"1\" class=\"dataframe\">\n",
       "  <thead>\n",
       "    <tr style=\"text-align: right;\">\n",
       "      <th></th>\n",
       "      <th>show_id</th>\n",
       "      <th>type</th>\n",
       "      <th>title</th>\n",
       "      <th>director</th>\n",
       "      <th>cast</th>\n",
       "      <th>country</th>\n",
       "      <th>date_added</th>\n",
       "      <th>release_year</th>\n",
       "      <th>rating</th>\n",
       "      <th>duration</th>\n",
       "      <th>listed_in</th>\n",
       "      <th>description</th>\n",
       "    </tr>\n",
       "  </thead>\n",
       "  <tbody>\n",
       "    <tr>\n",
       "      <th>0</th>\n",
       "      <td>s1</td>\n",
       "      <td>Movie</td>\n",
       "      <td>Dick Johnson Is Dead</td>\n",
       "      <td>Kirsten Johnson</td>\n",
       "      <td>NaN</td>\n",
       "      <td>United States</td>\n",
       "      <td>September 25, 2021</td>\n",
       "      <td>2020</td>\n",
       "      <td>PG-13</td>\n",
       "      <td>90 min</td>\n",
       "      <td>Documentaries</td>\n",
       "      <td>As her father nears the end of his life, filmm...</td>\n",
       "    </tr>\n",
       "    <tr>\n",
       "      <th>1</th>\n",
       "      <td>s2</td>\n",
       "      <td>TV Show</td>\n",
       "      <td>Blood &amp; Water</td>\n",
       "      <td>NaN</td>\n",
       "      <td>Ama Qamata, Khosi Ngema, Gail Mabalane, Thaban...</td>\n",
       "      <td>South Africa</td>\n",
       "      <td>September 24, 2021</td>\n",
       "      <td>2021</td>\n",
       "      <td>TV-MA</td>\n",
       "      <td>2 Seasons</td>\n",
       "      <td>International TV Shows, TV Dramas, TV Mysteries</td>\n",
       "      <td>After crossing paths at a party, a Cape Town t...</td>\n",
       "    </tr>\n",
       "    <tr>\n",
       "      <th>2</th>\n",
       "      <td>s3</td>\n",
       "      <td>TV Show</td>\n",
       "      <td>Ganglands</td>\n",
       "      <td>Julien Leclercq</td>\n",
       "      <td>Sami Bouajila, Tracy Gotoas, Samuel Jouy, Nabi...</td>\n",
       "      <td>Unknown</td>\n",
       "      <td>September 24, 2021</td>\n",
       "      <td>2021</td>\n",
       "      <td>TV-MA</td>\n",
       "      <td>1 Season</td>\n",
       "      <td>Crime TV Shows, International TV Shows, TV Act...</td>\n",
       "      <td>To protect his family from a powerful drug lor...</td>\n",
       "    </tr>\n",
       "    <tr>\n",
       "      <th>3</th>\n",
       "      <td>s4</td>\n",
       "      <td>TV Show</td>\n",
       "      <td>Jailbirds New Orleans</td>\n",
       "      <td>NaN</td>\n",
       "      <td>NaN</td>\n",
       "      <td>Unknown</td>\n",
       "      <td>September 24, 2021</td>\n",
       "      <td>2021</td>\n",
       "      <td>TV-MA</td>\n",
       "      <td>1 Season</td>\n",
       "      <td>Docuseries, Reality TV</td>\n",
       "      <td>Feuds, flirtations and toilet talk go down amo...</td>\n",
       "    </tr>\n",
       "    <tr>\n",
       "      <th>4</th>\n",
       "      <td>s5</td>\n",
       "      <td>TV Show</td>\n",
       "      <td>Kota Factory</td>\n",
       "      <td>NaN</td>\n",
       "      <td>Mayur More, Jitendra Kumar, Ranjan Raj, Alam K...</td>\n",
       "      <td>India</td>\n",
       "      <td>September 24, 2021</td>\n",
       "      <td>2021</td>\n",
       "      <td>TV-MA</td>\n",
       "      <td>2 Seasons</td>\n",
       "      <td>International TV Shows, Romantic TV Shows, TV ...</td>\n",
       "      <td>In a city of coaching centers known to train I...</td>\n",
       "    </tr>\n",
       "  </tbody>\n",
       "</table>\n",
       "</div>"
      ],
      "text/plain": [
       "  show_id     type                  title         director  \\\n",
       "0      s1    Movie   Dick Johnson Is Dead  Kirsten Johnson   \n",
       "1      s2  TV Show          Blood & Water              NaN   \n",
       "2      s3  TV Show              Ganglands  Julien Leclercq   \n",
       "3      s4  TV Show  Jailbirds New Orleans              NaN   \n",
       "4      s5  TV Show           Kota Factory              NaN   \n",
       "\n",
       "                                                cast        country  \\\n",
       "0                                                NaN  United States   \n",
       "1  Ama Qamata, Khosi Ngema, Gail Mabalane, Thaban...   South Africa   \n",
       "2  Sami Bouajila, Tracy Gotoas, Samuel Jouy, Nabi...        Unknown   \n",
       "3                                                NaN        Unknown   \n",
       "4  Mayur More, Jitendra Kumar, Ranjan Raj, Alam K...          India   \n",
       "\n",
       "           date_added  release_year rating   duration  \\\n",
       "0  September 25, 2021          2020  PG-13     90 min   \n",
       "1  September 24, 2021          2021  TV-MA  2 Seasons   \n",
       "2  September 24, 2021          2021  TV-MA   1 Season   \n",
       "3  September 24, 2021          2021  TV-MA   1 Season   \n",
       "4  September 24, 2021          2021  TV-MA  2 Seasons   \n",
       "\n",
       "                                           listed_in  \\\n",
       "0                                      Documentaries   \n",
       "1    International TV Shows, TV Dramas, TV Mysteries   \n",
       "2  Crime TV Shows, International TV Shows, TV Act...   \n",
       "3                             Docuseries, Reality TV   \n",
       "4  International TV Shows, Romantic TV Shows, TV ...   \n",
       "\n",
       "                                         description  \n",
       "0  As her father nears the end of his life, filmm...  \n",
       "1  After crossing paths at a party, a Cape Town t...  \n",
       "2  To protect his family from a powerful drug lor...  \n",
       "3  Feuds, flirtations and toilet talk go down amo...  \n",
       "4  In a city of coaching centers known to train I...  "
      ]
     },
     "execution_count": 16,
     "metadata": {},
     "output_type": "execute_result"
    }
   ],
   "source": [
    "neflix.head() --check"
   ]
  },
  {
   "cell_type": "code",
   "execution_count": 17,
   "id": "43edf9f9",
   "metadata": {},
   "outputs": [
    {
     "data": {
      "text/plain": [
       "show_id            0\n",
       "type               0\n",
       "title              0\n",
       "director        2634\n",
       "cast             825\n",
       "country            0\n",
       "date_added        10\n",
       "release_year       0\n",
       "rating             4\n",
       "duration           3\n",
       "listed_in          0\n",
       "description        0\n",
       "dtype: int64"
      ]
     },
     "execution_count": 17,
     "metadata": {},
     "output_type": "execute_result"
    }
   ],
   "source": [
    "neflix.isnull().sum() #country no longer has missing values"
   ]
  },
  {
   "cell_type": "markdown",
   "id": "e7e26c8b",
   "metadata": {},
   "source": [
    "➢ Drop rows where date_added or rating is missing.  -(to drop rows)"
   ]
  },
  {
   "cell_type": "code",
   "execution_count": 19,
   "id": "cfbb6604",
   "metadata": {},
   "outputs": [],
   "source": [
    "neflix = neflix.dropna(subset = 'date_added')"
   ]
  },
  {
   "cell_type": "code",
   "execution_count": 20,
   "id": "c219bb86",
   "metadata": {},
   "outputs": [
    {
     "data": {
      "text/plain": [
       "show_id            0\n",
       "type               0\n",
       "title              0\n",
       "director        2624\n",
       "cast             825\n",
       "country            0\n",
       "date_added         0\n",
       "release_year       0\n",
       "rating             4\n",
       "duration           3\n",
       "listed_in          0\n",
       "description        0\n",
       "dtype: int64"
      ]
     },
     "execution_count": 20,
     "metadata": {},
     "output_type": "execute_result"
    }
   ],
   "source": [
    "neflix.isnull().sum()"
   ]
  },
  {
   "cell_type": "markdown",
   "id": "19b83a19",
   "metadata": {},
   "source": [
    " ➢ Count how many are Movies vs TV Shows"
   ]
  },
  {
   "cell_type": "code",
   "execution_count": 23,
   "id": "88d45748",
   "metadata": {},
   "outputs": [
    {
     "data": {
      "text/plain": [
       "Movie      6131\n",
       "TV Show    2666\n",
       "Name: type, dtype: int64"
      ]
     },
     "execution_count": 23,
     "metadata": {},
     "output_type": "execute_result"
    }
   ],
   "source": [
    "neflix['type'].value_counts()"
   ]
  },
  {
   "cell_type": "markdown",
   "id": "caa9452f",
   "metadata": {},
   "source": [
    "➢ List the top 10 most frequent countries in the country column"
   ]
  },
  {
   "cell_type": "code",
   "execution_count": 24,
   "id": "bc4ee53c",
   "metadata": {},
   "outputs": [
    {
     "data": {
      "text/plain": [
       "United States                             2812\n",
       "India                                      972\n",
       "Unknown                                    830\n",
       "United Kingdom                             418\n",
       "Japan                                      244\n",
       "                                          ... \n",
       "Romania, Bulgaria, Hungary                   1\n",
       "Uruguay, Guatemala                           1\n",
       "France, Senegal, Belgium                     1\n",
       "Mexico, United States, Spain, Colombia       1\n",
       "United Arab Emirates, Jordan                 1\n",
       "Name: country, Length: 749, dtype: int64"
      ]
     },
     "execution_count": 24,
     "metadata": {},
     "output_type": "execute_result"
    }
   ],
   "source": [
    "neflix['country'].value_counts() #because some country column contains more than one country, it needed to be split"
   ]
  },
  {
   "cell_type": "code",
   "execution_count": 25,
   "id": "ebf56849",
   "metadata": {},
   "outputs": [],
   "source": [
    "country = neflix['country'].str.split(',') -- to check"
   ]
  },
  {
   "cell_type": "code",
   "execution_count": 27,
   "id": "53303c48",
   "metadata": {},
   "outputs": [],
   "source": [
    "country = country.explode()"
   ]
  },
  {
   "cell_type": "code",
   "execution_count": 28,
   "id": "d538b7a3",
   "metadata": {},
   "outputs": [
    {
     "data": {
      "text/plain": [
       "0       United States\n",
       "1        South Africa\n",
       "2             Unknown\n",
       "3             Unknown\n",
       "4               India\n",
       "            ...      \n",
       "8802    United States\n",
       "8803          Unknown\n",
       "8804    United States\n",
       "8805    United States\n",
       "8806            India\n",
       "Name: country, Length: 10840, dtype: object"
      ]
     },
     "execution_count": 28,
     "metadata": {},
     "output_type": "execute_result"
    }
   ],
   "source": [
    "country"
   ]
  },
  {
   "cell_type": "code",
   "execution_count": 35,
   "id": "bce64264",
   "metadata": {},
   "outputs": [
    {
     "data": {
      "text/plain": [
       "United States     3205\n",
       "India             1008\n",
       "Unknown            830\n",
       "United Kingdom     627\n",
       " United States     479\n",
       "Name: country, dtype: int64"
      ]
     },
     "execution_count": 35,
     "metadata": {},
     "output_type": "execute_result"
    }
   ],
   "source": [
    "country.value_counts().head()"
   ]
  },
  {
   "cell_type": "code",
   "execution_count": 43,
   "id": "128785a2",
   "metadata": {},
   "outputs": [
    {
     "data": {
      "text/plain": [
       "United States     3205\n",
       "India             1008\n",
       "Unknown            830\n",
       "United Kingdom     627\n",
       " United States     479\n",
       "Canada             271\n",
       "Japan              258\n",
       "France             212\n",
       "South Korea        211\n",
       " France            181\n",
       "Spain              181\n",
       "Name: country, dtype: int64"
      ]
     },
     "execution_count": 43,
     "metadata": {},
     "output_type": "execute_result"
    }
   ],
   "source": [
    "country.value_counts().head(11)   #list top 10 most frequent country, unknown is not a country, hence 11"
   ]
  },
  {
   "cell_type": "markdown",
   "id": "026003c7",
   "metadata": {},
   "source": [
    "➢ Convert the date_added column to datetime format"
   ]
  },
  {
   "cell_type": "code",
   "execution_count": 44,
   "id": "3ed2a262",
   "metadata": {},
   "outputs": [
    {
     "name": "stdout",
     "output_type": "stream",
     "text": [
      "<class 'pandas.core.frame.DataFrame'>\n",
      "Int64Index: 8797 entries, 0 to 8806\n",
      "Data columns (total 12 columns):\n",
      " #   Column        Non-Null Count  Dtype \n",
      "---  ------        --------------  ----- \n",
      " 0   show_id       8797 non-null   object\n",
      " 1   type          8797 non-null   object\n",
      " 2   title         8797 non-null   object\n",
      " 3   director      6173 non-null   object\n",
      " 4   cast          7972 non-null   object\n",
      " 5   country       8797 non-null   object\n",
      " 6   date_added    8797 non-null   object\n",
      " 7   release_year  8797 non-null   int64 \n",
      " 8   rating        8793 non-null   object\n",
      " 9   duration      8794 non-null   object\n",
      " 10  listed_in     8797 non-null   object\n",
      " 11  description   8797 non-null   object\n",
      "dtypes: int64(1), object(11)\n",
      "memory usage: 893.4+ KB\n"
     ]
    }
   ],
   "source": [
    "neflix.info()"
   ]
  },
  {
   "cell_type": "code",
   "execution_count": 46,
   "id": "f1385a6a",
   "metadata": {},
   "outputs": [],
   "source": [
    "# Task 5: Convert the date_added column to datetime format\n",
    "neflix['date_added'] = pd.to_datetime(neflix['date_added'].str.strip(), format='%B %d, %Y', errors='coerce')"
   ]
  },
  {
   "cell_type": "code",
   "execution_count": 47,
   "id": "8519852a",
   "metadata": {},
   "outputs": [
    {
     "name": "stdout",
     "output_type": "stream",
     "text": [
      "<class 'pandas.core.frame.DataFrame'>\n",
      "Int64Index: 8797 entries, 0 to 8806\n",
      "Data columns (total 12 columns):\n",
      " #   Column        Non-Null Count  Dtype         \n",
      "---  ------        --------------  -----         \n",
      " 0   show_id       8797 non-null   object        \n",
      " 1   type          8797 non-null   object        \n",
      " 2   title         8797 non-null   object        \n",
      " 3   director      6173 non-null   object        \n",
      " 4   cast          7972 non-null   object        \n",
      " 5   country       8797 non-null   object        \n",
      " 6   date_added    8797 non-null   datetime64[ns]\n",
      " 7   release_year  8797 non-null   int64         \n",
      " 8   rating        8793 non-null   object        \n",
      " 9   duration      8794 non-null   object        \n",
      " 10  listed_in     8797 non-null   object        \n",
      " 11  description   8797 non-null   object        \n",
      "dtypes: datetime64[ns](1), int64(1), object(10)\n",
      "memory usage: 893.4+ KB\n"
     ]
    }
   ],
   "source": [
    "neflix.info()"
   ]
  },
  {
   "cell_type": "code",
   "execution_count": 48,
   "id": "b6b22bcb",
   "metadata": {},
   "outputs": [],
   "source": [
    "# Task 6: Create a new column year_added extracted from date_added\n",
    "neflix['year_added'] = neflix['date_added'].dt.year"
   ]
  },
  {
   "cell_type": "code",
   "execution_count": 49,
   "id": "a22f688a",
   "metadata": {},
   "outputs": [
    {
     "data": {
      "text/html": [
       "<div>\n",
       "<style scoped>\n",
       "    .dataframe tbody tr th:only-of-type {\n",
       "        vertical-align: middle;\n",
       "    }\n",
       "\n",
       "    .dataframe tbody tr th {\n",
       "        vertical-align: top;\n",
       "    }\n",
       "\n",
       "    .dataframe thead th {\n",
       "        text-align: right;\n",
       "    }\n",
       "</style>\n",
       "<table border=\"1\" class=\"dataframe\">\n",
       "  <thead>\n",
       "    <tr style=\"text-align: right;\">\n",
       "      <th></th>\n",
       "      <th>show_id</th>\n",
       "      <th>type</th>\n",
       "      <th>title</th>\n",
       "      <th>director</th>\n",
       "      <th>cast</th>\n",
       "      <th>country</th>\n",
       "      <th>date_added</th>\n",
       "      <th>release_year</th>\n",
       "      <th>rating</th>\n",
       "      <th>duration</th>\n",
       "      <th>listed_in</th>\n",
       "      <th>description</th>\n",
       "      <th>year_added</th>\n",
       "    </tr>\n",
       "  </thead>\n",
       "  <tbody>\n",
       "    <tr>\n",
       "      <th>0</th>\n",
       "      <td>s1</td>\n",
       "      <td>Movie</td>\n",
       "      <td>Dick Johnson Is Dead</td>\n",
       "      <td>Kirsten Johnson</td>\n",
       "      <td>NaN</td>\n",
       "      <td>United States</td>\n",
       "      <td>2021-09-25</td>\n",
       "      <td>2020</td>\n",
       "      <td>PG-13</td>\n",
       "      <td>90 min</td>\n",
       "      <td>Documentaries</td>\n",
       "      <td>As her father nears the end of his life, filmm...</td>\n",
       "      <td>2021</td>\n",
       "    </tr>\n",
       "    <tr>\n",
       "      <th>1</th>\n",
       "      <td>s2</td>\n",
       "      <td>TV Show</td>\n",
       "      <td>Blood &amp; Water</td>\n",
       "      <td>NaN</td>\n",
       "      <td>Ama Qamata, Khosi Ngema, Gail Mabalane, Thaban...</td>\n",
       "      <td>South Africa</td>\n",
       "      <td>2021-09-24</td>\n",
       "      <td>2021</td>\n",
       "      <td>TV-MA</td>\n",
       "      <td>2 Seasons</td>\n",
       "      <td>International TV Shows, TV Dramas, TV Mysteries</td>\n",
       "      <td>After crossing paths at a party, a Cape Town t...</td>\n",
       "      <td>2021</td>\n",
       "    </tr>\n",
       "    <tr>\n",
       "      <th>2</th>\n",
       "      <td>s3</td>\n",
       "      <td>TV Show</td>\n",
       "      <td>Ganglands</td>\n",
       "      <td>Julien Leclercq</td>\n",
       "      <td>Sami Bouajila, Tracy Gotoas, Samuel Jouy, Nabi...</td>\n",
       "      <td>Unknown</td>\n",
       "      <td>2021-09-24</td>\n",
       "      <td>2021</td>\n",
       "      <td>TV-MA</td>\n",
       "      <td>1 Season</td>\n",
       "      <td>Crime TV Shows, International TV Shows, TV Act...</td>\n",
       "      <td>To protect his family from a powerful drug lor...</td>\n",
       "      <td>2021</td>\n",
       "    </tr>\n",
       "    <tr>\n",
       "      <th>3</th>\n",
       "      <td>s4</td>\n",
       "      <td>TV Show</td>\n",
       "      <td>Jailbirds New Orleans</td>\n",
       "      <td>NaN</td>\n",
       "      <td>NaN</td>\n",
       "      <td>Unknown</td>\n",
       "      <td>2021-09-24</td>\n",
       "      <td>2021</td>\n",
       "      <td>TV-MA</td>\n",
       "      <td>1 Season</td>\n",
       "      <td>Docuseries, Reality TV</td>\n",
       "      <td>Feuds, flirtations and toilet talk go down amo...</td>\n",
       "      <td>2021</td>\n",
       "    </tr>\n",
       "    <tr>\n",
       "      <th>4</th>\n",
       "      <td>s5</td>\n",
       "      <td>TV Show</td>\n",
       "      <td>Kota Factory</td>\n",
       "      <td>NaN</td>\n",
       "      <td>Mayur More, Jitendra Kumar, Ranjan Raj, Alam K...</td>\n",
       "      <td>India</td>\n",
       "      <td>2021-09-24</td>\n",
       "      <td>2021</td>\n",
       "      <td>TV-MA</td>\n",
       "      <td>2 Seasons</td>\n",
       "      <td>International TV Shows, Romantic TV Shows, TV ...</td>\n",
       "      <td>In a city of coaching centers known to train I...</td>\n",
       "      <td>2021</td>\n",
       "    </tr>\n",
       "  </tbody>\n",
       "</table>\n",
       "</div>"
      ],
      "text/plain": [
       "  show_id     type                  title         director  \\\n",
       "0      s1    Movie   Dick Johnson Is Dead  Kirsten Johnson   \n",
       "1      s2  TV Show          Blood & Water              NaN   \n",
       "2      s3  TV Show              Ganglands  Julien Leclercq   \n",
       "3      s4  TV Show  Jailbirds New Orleans              NaN   \n",
       "4      s5  TV Show           Kota Factory              NaN   \n",
       "\n",
       "                                                cast        country  \\\n",
       "0                                                NaN  United States   \n",
       "1  Ama Qamata, Khosi Ngema, Gail Mabalane, Thaban...   South Africa   \n",
       "2  Sami Bouajila, Tracy Gotoas, Samuel Jouy, Nabi...        Unknown   \n",
       "3                                                NaN        Unknown   \n",
       "4  Mayur More, Jitendra Kumar, Ranjan Raj, Alam K...          India   \n",
       "\n",
       "  date_added  release_year rating   duration  \\\n",
       "0 2021-09-25          2020  PG-13     90 min   \n",
       "1 2021-09-24          2021  TV-MA  2 Seasons   \n",
       "2 2021-09-24          2021  TV-MA   1 Season   \n",
       "3 2021-09-24          2021  TV-MA   1 Season   \n",
       "4 2021-09-24          2021  TV-MA  2 Seasons   \n",
       "\n",
       "                                           listed_in  \\\n",
       "0                                      Documentaries   \n",
       "1    International TV Shows, TV Dramas, TV Mysteries   \n",
       "2  Crime TV Shows, International TV Shows, TV Act...   \n",
       "3                             Docuseries, Reality TV   \n",
       "4  International TV Shows, Romantic TV Shows, TV ...   \n",
       "\n",
       "                                         description  year_added  \n",
       "0  As her father nears the end of his life, filmm...        2021  \n",
       "1  After crossing paths at a party, a Cape Town t...        2021  \n",
       "2  To protect his family from a powerful drug lor...        2021  \n",
       "3  Feuds, flirtations and toilet talk go down amo...        2021  \n",
       "4  In a city of coaching centers known to train I...        2021  "
      ]
     },
     "execution_count": 49,
     "metadata": {},
     "output_type": "execute_result"
    }
   ],
   "source": [
    "neflix.head()"
   ]
  },
  {
   "cell_type": "code",
   "execution_count": 50,
   "id": "6992953d",
   "metadata": {},
   "outputs": [
    {
     "name": "stdout",
     "output_type": "stream",
     "text": [
      "\n",
      "Number of shows released before 2000: 525\n"
     ]
    }
   ],
   "source": [
    "# Task 7: Find all shows released before the year 2000\n",
    "show_2000 = neflix[neflix['release_year'] < 2000]\n",
    "print(\"\\nNumber of shows released before 2000:\", len(show_2000))"
   ]
  },
  {
   "cell_type": "code",
   "execution_count": 51,
   "id": "416a95e5",
   "metadata": {},
   "outputs": [
    {
     "name": "stdout",
     "output_type": "stream",
     "text": [
      "\n",
      "Most common genre: International Movies\n"
     ]
    }
   ],
   "source": [
    "# Task 8: Find the most common genre in the listed_in column\n",
    "from collections import Counter\n",
    "all_genres = [genre.strip() for sublist in neflix['listed_in'].str.split(',').dropna() for genre in sublist]\n",
    "most_common_genre = Counter(all_genres).most_common(1)[0][0]\n",
    "print(\"\\nMost common genre:\", most_common_genre)"
   ]
  },
  {
   "cell_type": "code",
   "execution_count": 52,
   "id": "ddfdd8ac",
   "metadata": {},
   "outputs": [
    {
     "name": "stdout",
     "output_type": "stream",
     "text": [
      "\n",
      "Shows directed by Rajkumar Hirani:\n",
      "         title   type  release_year\n",
      "1114  3 Idiots  Movie          2009\n",
      "4507     Sanju  Movie          2018\n",
      "4660        PK  Movie          2014\n"
     ]
    }
   ],
   "source": [
    "# Task 9: List all shows directed by 'Rajkumar Hirani'\n",
    "hirani_shows = neflix[neflix['director'] == 'Rajkumar Hirani']\n",
    "print(\"\\nShows directed by Rajkumar Hirani:\")\n",
    "print(hirani_shows[['title', 'type', 'release_year']])"
   ]
  },
  {
   "cell_type": "code",
   "execution_count": 53,
   "id": "48720546",
   "metadata": {},
   "outputs": [
    {
     "name": "stdout",
     "output_type": "stream",
     "text": [
      "\n",
      "Count by rating:\n",
      "TV-MA       3205\n",
      "TV-14       2157\n",
      "TV-PG        861\n",
      "R            799\n",
      "PG-13        490\n",
      "TV-Y7        333\n",
      "TV-Y         306\n",
      "PG           287\n",
      "TV-G         220\n",
      "NR            79\n",
      "G             41\n",
      "TV-Y7-FV       6\n",
      "NC-17          3\n",
      "UR             3\n",
      "74 min         1\n",
      "84 min         1\n",
      "66 min         1\n",
      "Name: rating, dtype: int64\n"
     ]
    }
   ],
   "source": [
    "# Task 10: Count how many shows fall under each rating\n",
    "rating_counts = neflix['rating'].value_counts()\n",
    "print(\"\\nCount by rating:\")\n",
    "print(rating_counts)"
   ]
  },
  {
   "cell_type": "code",
   "execution_count": 55,
   "id": "5e3ad403",
   "metadata": {},
   "outputs": [
    {
     "name": "stdout",
     "output_type": "stream",
     "text": [
      "\n",
      "Number of movies longer than 100 minutes: 2814\n"
     ]
    },
    {
     "name": "stderr",
     "output_type": "stream",
     "text": [
      "C:\\Users\\user\\AppData\\Local\\Temp\\ipykernel_2936\\2556289121.py:3: SettingWithCopyWarning: \n",
      "A value is trying to be set on a copy of a slice from a DataFrame.\n",
      "Try using .loc[row_indexer,col_indexer] = value instead\n",
      "\n",
      "See the caveats in the documentation: https://pandas.pydata.org/pandas-docs/stable/user_guide/indexing.html#returning-a-view-versus-a-copy\n",
      "  movies['duration_min'] = movies['duration'].str.extract('(\\d+)').astype(float)\n"
     ]
    }
   ],
   "source": [
    "# Task 11: Filter and show only movies with duration more than 100 minutes\n",
    "movies = neflix[neflix['type'] == 'Movie']\n",
    "movies['duration_min'] = movies['duration'].str.extract('(\\d+)').astype(float)\n",
    "long_movies = movies[movies['duration_min'] > 100]\n",
    "print(\"\\nNumber of movies longer than 100 minutes:\", len(long_movies))"
   ]
  },
  {
   "cell_type": "code",
   "execution_count": 56,
   "id": "0ce03450",
   "metadata": {},
   "outputs": [],
   "source": [
    "# Task 12: Create a new column content_length by extracting numeric duration\n",
    "def extract_duration(duration_str):\n",
    "    if pd.isna(duration_str):\n",
    "        return None\n",
    "    if 'min' in duration_str:\n",
    "        return int(duration_str.replace(' min', ''))\n",
    "    elif 'Season' in duration_str or 'Seasons' in duration_str:\n",
    "        return int(duration_str.replace(' Season', '').replace('s', ''))\n",
    "    return None\n",
    "\n",
    "neflix['content_length'] = neflix['duration'].apply(extract_duration)"
   ]
  },
  {
   "cell_type": "code",
   "execution_count": 57,
   "id": "97ba0f29",
   "metadata": {},
   "outputs": [
    {
     "data": {
      "text/html": [
       "<div>\n",
       "<style scoped>\n",
       "    .dataframe tbody tr th:only-of-type {\n",
       "        vertical-align: middle;\n",
       "    }\n",
       "\n",
       "    .dataframe tbody tr th {\n",
       "        vertical-align: top;\n",
       "    }\n",
       "\n",
       "    .dataframe thead th {\n",
       "        text-align: right;\n",
       "    }\n",
       "</style>\n",
       "<table border=\"1\" class=\"dataframe\">\n",
       "  <thead>\n",
       "    <tr style=\"text-align: right;\">\n",
       "      <th></th>\n",
       "      <th>show_id</th>\n",
       "      <th>type</th>\n",
       "      <th>title</th>\n",
       "      <th>director</th>\n",
       "      <th>cast</th>\n",
       "      <th>country</th>\n",
       "      <th>date_added</th>\n",
       "      <th>release_year</th>\n",
       "      <th>rating</th>\n",
       "      <th>duration</th>\n",
       "      <th>listed_in</th>\n",
       "      <th>description</th>\n",
       "      <th>year_added</th>\n",
       "      <th>content_length</th>\n",
       "    </tr>\n",
       "  </thead>\n",
       "  <tbody>\n",
       "    <tr>\n",
       "      <th>0</th>\n",
       "      <td>s1</td>\n",
       "      <td>Movie</td>\n",
       "      <td>Dick Johnson Is Dead</td>\n",
       "      <td>Kirsten Johnson</td>\n",
       "      <td>NaN</td>\n",
       "      <td>United States</td>\n",
       "      <td>2021-09-25</td>\n",
       "      <td>2020</td>\n",
       "      <td>PG-13</td>\n",
       "      <td>90 min</td>\n",
       "      <td>Documentaries</td>\n",
       "      <td>As her father nears the end of his life, filmm...</td>\n",
       "      <td>2021</td>\n",
       "      <td>90.0</td>\n",
       "    </tr>\n",
       "    <tr>\n",
       "      <th>1</th>\n",
       "      <td>s2</td>\n",
       "      <td>TV Show</td>\n",
       "      <td>Blood &amp; Water</td>\n",
       "      <td>NaN</td>\n",
       "      <td>Ama Qamata, Khosi Ngema, Gail Mabalane, Thaban...</td>\n",
       "      <td>South Africa</td>\n",
       "      <td>2021-09-24</td>\n",
       "      <td>2021</td>\n",
       "      <td>TV-MA</td>\n",
       "      <td>2 Seasons</td>\n",
       "      <td>International TV Shows, TV Dramas, TV Mysteries</td>\n",
       "      <td>After crossing paths at a party, a Cape Town t...</td>\n",
       "      <td>2021</td>\n",
       "      <td>2.0</td>\n",
       "    </tr>\n",
       "    <tr>\n",
       "      <th>2</th>\n",
       "      <td>s3</td>\n",
       "      <td>TV Show</td>\n",
       "      <td>Ganglands</td>\n",
       "      <td>Julien Leclercq</td>\n",
       "      <td>Sami Bouajila, Tracy Gotoas, Samuel Jouy, Nabi...</td>\n",
       "      <td>Unknown</td>\n",
       "      <td>2021-09-24</td>\n",
       "      <td>2021</td>\n",
       "      <td>TV-MA</td>\n",
       "      <td>1 Season</td>\n",
       "      <td>Crime TV Shows, International TV Shows, TV Act...</td>\n",
       "      <td>To protect his family from a powerful drug lor...</td>\n",
       "      <td>2021</td>\n",
       "      <td>1.0</td>\n",
       "    </tr>\n",
       "    <tr>\n",
       "      <th>3</th>\n",
       "      <td>s4</td>\n",
       "      <td>TV Show</td>\n",
       "      <td>Jailbirds New Orleans</td>\n",
       "      <td>NaN</td>\n",
       "      <td>NaN</td>\n",
       "      <td>Unknown</td>\n",
       "      <td>2021-09-24</td>\n",
       "      <td>2021</td>\n",
       "      <td>TV-MA</td>\n",
       "      <td>1 Season</td>\n",
       "      <td>Docuseries, Reality TV</td>\n",
       "      <td>Feuds, flirtations and toilet talk go down amo...</td>\n",
       "      <td>2021</td>\n",
       "      <td>1.0</td>\n",
       "    </tr>\n",
       "    <tr>\n",
       "      <th>4</th>\n",
       "      <td>s5</td>\n",
       "      <td>TV Show</td>\n",
       "      <td>Kota Factory</td>\n",
       "      <td>NaN</td>\n",
       "      <td>Mayur More, Jitendra Kumar, Ranjan Raj, Alam K...</td>\n",
       "      <td>India</td>\n",
       "      <td>2021-09-24</td>\n",
       "      <td>2021</td>\n",
       "      <td>TV-MA</td>\n",
       "      <td>2 Seasons</td>\n",
       "      <td>International TV Shows, Romantic TV Shows, TV ...</td>\n",
       "      <td>In a city of coaching centers known to train I...</td>\n",
       "      <td>2021</td>\n",
       "      <td>2.0</td>\n",
       "    </tr>\n",
       "  </tbody>\n",
       "</table>\n",
       "</div>"
      ],
      "text/plain": [
       "  show_id     type                  title         director  \\\n",
       "0      s1    Movie   Dick Johnson Is Dead  Kirsten Johnson   \n",
       "1      s2  TV Show          Blood & Water              NaN   \n",
       "2      s3  TV Show              Ganglands  Julien Leclercq   \n",
       "3      s4  TV Show  Jailbirds New Orleans              NaN   \n",
       "4      s5  TV Show           Kota Factory              NaN   \n",
       "\n",
       "                                                cast        country  \\\n",
       "0                                                NaN  United States   \n",
       "1  Ama Qamata, Khosi Ngema, Gail Mabalane, Thaban...   South Africa   \n",
       "2  Sami Bouajila, Tracy Gotoas, Samuel Jouy, Nabi...        Unknown   \n",
       "3                                                NaN        Unknown   \n",
       "4  Mayur More, Jitendra Kumar, Ranjan Raj, Alam K...          India   \n",
       "\n",
       "  date_added  release_year rating   duration  \\\n",
       "0 2021-09-25          2020  PG-13     90 min   \n",
       "1 2021-09-24          2021  TV-MA  2 Seasons   \n",
       "2 2021-09-24          2021  TV-MA   1 Season   \n",
       "3 2021-09-24          2021  TV-MA   1 Season   \n",
       "4 2021-09-24          2021  TV-MA  2 Seasons   \n",
       "\n",
       "                                           listed_in  \\\n",
       "0                                      Documentaries   \n",
       "1    International TV Shows, TV Dramas, TV Mysteries   \n",
       "2  Crime TV Shows, International TV Shows, TV Act...   \n",
       "3                             Docuseries, Reality TV   \n",
       "4  International TV Shows, Romantic TV Shows, TV ...   \n",
       "\n",
       "                                         description  year_added  \\\n",
       "0  As her father nears the end of his life, filmm...        2021   \n",
       "1  After crossing paths at a party, a Cape Town t...        2021   \n",
       "2  To protect his family from a powerful drug lor...        2021   \n",
       "3  Feuds, flirtations and toilet talk go down amo...        2021   \n",
       "4  In a city of coaching centers known to train I...        2021   \n",
       "\n",
       "   content_length  \n",
       "0            90.0  \n",
       "1             2.0  \n",
       "2             1.0  \n",
       "3             1.0  \n",
       "4             2.0  "
      ]
     },
     "execution_count": 57,
     "metadata": {},
     "output_type": "execute_result"
    }
   ],
   "source": [
    "neflix.head()"
   ]
  },
  {
   "cell_type": "code",
   "execution_count": 58,
   "id": "9616571f",
   "metadata": {},
   "outputs": [],
   "source": [
    "# Task 13: Sort the dataset by release_year in descending order\n",
    "neflix = neflix.sort_values('release_year', ascending=False)"
   ]
  },
  {
   "cell_type": "code",
   "execution_count": 59,
   "id": "047ff7ae",
   "metadata": {},
   "outputs": [
    {
     "name": "stdout",
     "output_type": "stream",
     "text": [
      "\n",
      "Cleaned dataset saved to 'netflix_titles_cleaned.csv'\n"
     ]
    }
   ],
   "source": [
    "# Task 14: Save the cleaned DataFrame to a new CSV file\n",
    "neflix.to_csv('netflix_titles_cleaned.csv', index=False)\n",
    "print(\"\\nCleaned dataset saved to 'netflix_titles_cleaned.csv'\")"
   ]
  },
  {
   "cell_type": "code",
   "execution_count": 60,
   "id": "b3871612",
   "metadata": {},
   "outputs": [
    {
     "name": "stdout",
     "output_type": "stream",
     "text": [
      "\n",
      "Final dataset shape: (8797, 14)\n",
      "\n",
      "First few rows of cleaned dataset:\n",
      "    show_id     type                                  title        director  \\\n",
      "693    s694    Movie                 Ali & Ratu Ratu Queens  Lucky Kuswandi   \n",
      "781    s782    Movie  Black Holes | The Edge of All We Know   Peter Galison   \n",
      "762    s763    Movie                           Sweet & Sour   Lee Kae-byeok   \n",
      "763    s764  TV Show                            Sweet Tooth             NaN   \n",
      "764    s765    Movie           Trippin' with the Kandasamys   Jayan Moodley   \n",
      "\n",
      "                                                  cast        country  \\\n",
      "693  Iqbaal Ramadhan, Nirina Zubir, Asri Welas, Tik...        Unknown   \n",
      "781                                                NaN        Unknown   \n",
      "762          Jang Ki-yong, Chae Soo-bin, Jung Soo-jung    South Korea   \n",
      "763  Nonso Anozie, Christian Convery, Adeel Akhtar,...  United States   \n",
      "764  Jailoshini Naidoo, Maeshni Naicker, Madhushan ...   South Africa   \n",
      "\n",
      "    date_added  release_year rating  duration  \\\n",
      "693 2021-06-17          2021  TV-14   101 min   \n",
      "781 2021-06-02          2021  TV-14    99 min   \n",
      "762 2021-06-04          2021  TV-14   103 min   \n",
      "763 2021-06-04          2021  TV-14  1 Season   \n",
      "764 2021-06-04          2021  TV-14    94 min   \n",
      "\n",
      "                                             listed_in  \\\n",
      "693             Comedies, Dramas, International Movies   \n",
      "781                                      Documentaries   \n",
      "762    Comedies, International Movies, Romantic Movies   \n",
      "763  TV Action & Adventure, TV Dramas, TV Sci-Fi & ...   \n",
      "764    Comedies, International Movies, Romantic Movies   \n",
      "\n",
      "                                           description  year_added  \\\n",
      "693  After his father's passing, a teenager sets ou...        2021   \n",
      "781  Follow scientists on their quest to understand...        2021   \n",
      "762  Faced with real-world opportunities and challe...        2021   \n",
      "763  On a perilous adventure across a post-apocalyp...        2021   \n",
      "764  To rekindle their marriages, best friends-turn...        2021   \n",
      "\n",
      "     content_length  \n",
      "693           101.0  \n",
      "781            99.0  \n",
      "762           103.0  \n",
      "763             1.0  \n",
      "764            94.0  \n"
     ]
    }
   ],
   "source": [
    "\n",
    "# Display some summary information\n",
    "print(\"\\nFinal dataset shape:\", neflix.shape)\n",
    "print(\"\\nFirst few rows of cleaned dataset:\")\n",
    "print(neflix.head())"
   ]
  },
  {
   "cell_type": "code",
   "execution_count": 61,
   "id": "c42985f1",
   "metadata": {},
   "outputs": [
    {
     "data": {
      "text/html": [
       "<div>\n",
       "<style scoped>\n",
       "    .dataframe tbody tr th:only-of-type {\n",
       "        vertical-align: middle;\n",
       "    }\n",
       "\n",
       "    .dataframe tbody tr th {\n",
       "        vertical-align: top;\n",
       "    }\n",
       "\n",
       "    .dataframe thead th {\n",
       "        text-align: right;\n",
       "    }\n",
       "</style>\n",
       "<table border=\"1\" class=\"dataframe\">\n",
       "  <thead>\n",
       "    <tr style=\"text-align: right;\">\n",
       "      <th></th>\n",
       "      <th>show_id</th>\n",
       "      <th>type</th>\n",
       "      <th>title</th>\n",
       "      <th>director</th>\n",
       "      <th>cast</th>\n",
       "      <th>country</th>\n",
       "      <th>date_added</th>\n",
       "      <th>release_year</th>\n",
       "      <th>rating</th>\n",
       "      <th>duration</th>\n",
       "      <th>listed_in</th>\n",
       "      <th>description</th>\n",
       "      <th>year_added</th>\n",
       "      <th>content_length</th>\n",
       "    </tr>\n",
       "  </thead>\n",
       "  <tbody>\n",
       "    <tr>\n",
       "      <th>693</th>\n",
       "      <td>s694</td>\n",
       "      <td>Movie</td>\n",
       "      <td>Ali &amp; Ratu Ratu Queens</td>\n",
       "      <td>Lucky Kuswandi</td>\n",
       "      <td>Iqbaal Ramadhan, Nirina Zubir, Asri Welas, Tik...</td>\n",
       "      <td>Unknown</td>\n",
       "      <td>2021-06-17</td>\n",
       "      <td>2021</td>\n",
       "      <td>TV-14</td>\n",
       "      <td>101 min</td>\n",
       "      <td>Comedies, Dramas, International Movies</td>\n",
       "      <td>After his father's passing, a teenager sets ou...</td>\n",
       "      <td>2021</td>\n",
       "      <td>101.0</td>\n",
       "    </tr>\n",
       "    <tr>\n",
       "      <th>781</th>\n",
       "      <td>s782</td>\n",
       "      <td>Movie</td>\n",
       "      <td>Black Holes | The Edge of All We Know</td>\n",
       "      <td>Peter Galison</td>\n",
       "      <td>NaN</td>\n",
       "      <td>Unknown</td>\n",
       "      <td>2021-06-02</td>\n",
       "      <td>2021</td>\n",
       "      <td>TV-14</td>\n",
       "      <td>99 min</td>\n",
       "      <td>Documentaries</td>\n",
       "      <td>Follow scientists on their quest to understand...</td>\n",
       "      <td>2021</td>\n",
       "      <td>99.0</td>\n",
       "    </tr>\n",
       "    <tr>\n",
       "      <th>762</th>\n",
       "      <td>s763</td>\n",
       "      <td>Movie</td>\n",
       "      <td>Sweet &amp; Sour</td>\n",
       "      <td>Lee Kae-byeok</td>\n",
       "      <td>Jang Ki-yong, Chae Soo-bin, Jung Soo-jung</td>\n",
       "      <td>South Korea</td>\n",
       "      <td>2021-06-04</td>\n",
       "      <td>2021</td>\n",
       "      <td>TV-14</td>\n",
       "      <td>103 min</td>\n",
       "      <td>Comedies, International Movies, Romantic Movies</td>\n",
       "      <td>Faced with real-world opportunities and challe...</td>\n",
       "      <td>2021</td>\n",
       "      <td>103.0</td>\n",
       "    </tr>\n",
       "    <tr>\n",
       "      <th>763</th>\n",
       "      <td>s764</td>\n",
       "      <td>TV Show</td>\n",
       "      <td>Sweet Tooth</td>\n",
       "      <td>NaN</td>\n",
       "      <td>Nonso Anozie, Christian Convery, Adeel Akhtar,...</td>\n",
       "      <td>United States</td>\n",
       "      <td>2021-06-04</td>\n",
       "      <td>2021</td>\n",
       "      <td>TV-14</td>\n",
       "      <td>1 Season</td>\n",
       "      <td>TV Action &amp; Adventure, TV Dramas, TV Sci-Fi &amp; ...</td>\n",
       "      <td>On a perilous adventure across a post-apocalyp...</td>\n",
       "      <td>2021</td>\n",
       "      <td>1.0</td>\n",
       "    </tr>\n",
       "    <tr>\n",
       "      <th>764</th>\n",
       "      <td>s765</td>\n",
       "      <td>Movie</td>\n",
       "      <td>Trippin' with the Kandasamys</td>\n",
       "      <td>Jayan Moodley</td>\n",
       "      <td>Jailoshini Naidoo, Maeshni Naicker, Madhushan ...</td>\n",
       "      <td>South Africa</td>\n",
       "      <td>2021-06-04</td>\n",
       "      <td>2021</td>\n",
       "      <td>TV-14</td>\n",
       "      <td>94 min</td>\n",
       "      <td>Comedies, International Movies, Romantic Movies</td>\n",
       "      <td>To rekindle their marriages, best friends-turn...</td>\n",
       "      <td>2021</td>\n",
       "      <td>94.0</td>\n",
       "    </tr>\n",
       "  </tbody>\n",
       "</table>\n",
       "</div>"
      ],
      "text/plain": [
       "    show_id     type                                  title        director  \\\n",
       "693    s694    Movie                 Ali & Ratu Ratu Queens  Lucky Kuswandi   \n",
       "781    s782    Movie  Black Holes | The Edge of All We Know   Peter Galison   \n",
       "762    s763    Movie                           Sweet & Sour   Lee Kae-byeok   \n",
       "763    s764  TV Show                            Sweet Tooth             NaN   \n",
       "764    s765    Movie           Trippin' with the Kandasamys   Jayan Moodley   \n",
       "\n",
       "                                                  cast        country  \\\n",
       "693  Iqbaal Ramadhan, Nirina Zubir, Asri Welas, Tik...        Unknown   \n",
       "781                                                NaN        Unknown   \n",
       "762          Jang Ki-yong, Chae Soo-bin, Jung Soo-jung    South Korea   \n",
       "763  Nonso Anozie, Christian Convery, Adeel Akhtar,...  United States   \n",
       "764  Jailoshini Naidoo, Maeshni Naicker, Madhushan ...   South Africa   \n",
       "\n",
       "    date_added  release_year rating  duration  \\\n",
       "693 2021-06-17          2021  TV-14   101 min   \n",
       "781 2021-06-02          2021  TV-14    99 min   \n",
       "762 2021-06-04          2021  TV-14   103 min   \n",
       "763 2021-06-04          2021  TV-14  1 Season   \n",
       "764 2021-06-04          2021  TV-14    94 min   \n",
       "\n",
       "                                             listed_in  \\\n",
       "693             Comedies, Dramas, International Movies   \n",
       "781                                      Documentaries   \n",
       "762    Comedies, International Movies, Romantic Movies   \n",
       "763  TV Action & Adventure, TV Dramas, TV Sci-Fi & ...   \n",
       "764    Comedies, International Movies, Romantic Movies   \n",
       "\n",
       "                                           description  year_added  \\\n",
       "693  After his father's passing, a teenager sets ou...        2021   \n",
       "781  Follow scientists on their quest to understand...        2021   \n",
       "762  Faced with real-world opportunities and challe...        2021   \n",
       "763  On a perilous adventure across a post-apocalyp...        2021   \n",
       "764  To rekindle their marriages, best friends-turn...        2021   \n",
       "\n",
       "     content_length  \n",
       "693           101.0  \n",
       "781            99.0  \n",
       "762           103.0  \n",
       "763             1.0  \n",
       "764            94.0  "
      ]
     },
     "execution_count": 61,
     "metadata": {},
     "output_type": "execute_result"
    }
   ],
   "source": [
    "neflix.head()"
   ]
  },
  {
   "cell_type": "code",
   "execution_count": null,
   "id": "41dd1747",
   "metadata": {},
   "outputs": [],
   "source": []
  }
 ],
 "metadata": {
  "kernelspec": {
   "display_name": "Python 3 (ipykernel)",
   "language": "python",
   "name": "python3"
  },
  "language_info": {
   "codemirror_mode": {
    "name": "ipython",
    "version": 3
   },
   "file_extension": ".py",
   "mimetype": "text/x-python",
   "name": "python",
   "nbconvert_exporter": "python",
   "pygments_lexer": "ipython3",
   "version": "3.10.9"
  }
 },
 "nbformat": 4,
 "nbformat_minor": 5
}
